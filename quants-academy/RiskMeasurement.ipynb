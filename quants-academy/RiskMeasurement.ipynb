{
 "cells": [
  {
   "cell_type": "markdown",
   "id": "80892435",
   "metadata": {},
   "source": [
    "# Risk measurement and estimation"
   ]
  },
  {
   "cell_type": "markdown",
   "id": "4cc4db2a",
   "metadata": {},
   "source": [
    "One of the measures commonly used in the industry to quantify market risk is Value-at-Risk (VAR). It is used to calculate the capital reserve needed to cover the potential losses that may sustain at a given confidence level and given holding period.\n",
    "\n",
    "For a random variable $X$ which measures the gain of our portfolio, level $\\alpha\\in(0,1)$ and horizon $N$, we define **Value-at-Risk** as (negative value of) $\\alpha$-quantile of $X$:\n",
    "$$ VaR_\\alpha^N(X) = -F_x^{-1}(\\alpha).$$\n",
    "\n",
    "We are $(1-\\alpha)$ certain that we will not lose more than $VaR_\\alpha^N(X)$ dollars in the next $N$ days. We should keep that reserve to ensure that we are able to cover potential future losses."
   ]
  },
  {
   "cell_type": "markdown",
   "id": "db19290d",
   "metadata": {},
   "source": [
    "**Expected Shortfall (ES)** at level $\\alpha$ is the conditional expectation on a set of worst $\\alpha$-quantile outcomes:\n",
    "$$ ES^N_\\alpha(X) = -\\mathbb{E}[X|X\\leq F_X^{-1}(\\alpha)].$$\n",
    "\n",
    "If the VaR scenario occurs then on average our loss is equal to ES. We should keep that amount of capital so that we are prepared for VaR scenarios."
   ]
  },
  {
   "cell_type": "markdown",
   "id": "61c629f6",
   "metadata": {},
   "source": [
    "Both VaR and ES are maps $\\rho\\colon L^0\\to\\mathbb{R}$ satisfying\n",
    " - monoticity: $X\\geq Y \\implies \\rho(X)\\leq\\rho(Y)$,\n",
    " - cash-additivity: $\\rho(X+a) = \\rho(X)-a$,\n",
    " - normalisation: $\\rho(0)=0$,\n",
    " - positive homogeneity: $\\rho(aX)\\leq a\\rho(X)$ for $a\\geq0$.\n",
    " \n",
    "We interpret $\\rho(X)$ as the smallest capital that must be added to $X$ so that $X$ is acceptable."
   ]
  },
  {
   "cell_type": "markdown",
   "id": "26c3bcde",
   "metadata": {},
   "source": [
    "## Standard VaR estimators\n",
    "\n",
    "Here are the most popular VaR estimators:\n",
    " - **Empirical estimator**:\n",
    " $$ \\overline{VaR}_\\alpha^{emp}(x) = -x_{[n\\alpha]},$$\n",
    " - **Normal estimator**: \n",
    " $$ \\overline{VaR}_\\alpha^{norm}(x) = -(\\overline{x}+\\sigma(x)\\Phi^{-1}(\\alpha)),$$\n",
    " - **Unbiased normal estimator**:\n",
    " $$\\overline{VaR}_\\alpha^{norm_2}(x) = -(\\overline{x}+\\sigma(x)\\sqrt{\\frac{n+1}{n}}t^{-1}_{n-1}(\\alpha)),$$\n",
    " \n",
    " where $x=(x_0,\\ldots,x_{n-1})$ is a sample of size $n$, $\\overline{x}$ is a mean and $\\sigma(x)$ is a variance of $x$ while $\\Phi$ and $t$ are respectively standard and student's distributions."
   ]
  },
  {
   "cell_type": "markdown",
   "id": "ee432ff3",
   "metadata": {},
   "source": [
    "### Backtesting\n",
    "\n",
    "We define \n",
    "$ y = x+\\rho$\n",
    "as secured positions.\n",
    "Assuming the total number of backtesting days is $k$, the exception rate backtesting statistic is given by\n",
    "$$ T_k(y) = \\frac{1}{k}\\sum_{j=0}^{k-1}1_{y_j<0}.$$\n",
    "\n",
    "We count the number of capital breaches (exceptions) in the sample to quantify IMA model performance."
   ]
  },
  {
   "cell_type": "markdown",
   "id": "43a58e49",
   "metadata": {},
   "source": [
    "#### Exercise 1:\n",
    "Implement VaR estimators and compute VaR at level 1% assuming that $X\\sim N(1,10)$ and we are given a sample of length 250."
   ]
  },
  {
   "cell_type": "code",
   "execution_count": 1,
   "id": "5a96af16",
   "metadata": {},
   "outputs": [],
   "source": [
    "import numpy as np\n",
    "from scipy.stats import norm, t"
   ]
  },
  {
   "cell_type": "code",
   "execution_count": 2,
   "id": "c4120c4e",
   "metadata": {},
   "outputs": [],
   "source": [
    "def VARemp(alpha,x):\n",
    "    #empirical var estimator\n",
    "    #alpha is a number\n",
    "    #x is a np array of numbers\n",
    "    x = np.sort(x)\n",
    "    n = x.size\n",
    "    return -x[int(n*alpha)]\n",
    "\n",
    "def VARnorm(alpha,x):\n",
    "    #normal estimator\n",
    "    m = np.mean(x)\n",
    "    s = np.std(x)\n",
    "    f = norm.ppf(alpha)\n",
    "    return -(m+s*f)\n",
    "\n",
    "def VARnorm2(alpha,x):\n",
    "    #unbiased normal estimator\n",
    "    m = np.mean(x)\n",
    "    s = np.std(x)\n",
    "    n = x.size\n",
    "    f = t.ppf(alpha,df=n-1)\n",
    "    return -(m+s*np.sqrt((n+1)/n)*f)\n",
    "\n",
    "estimators = [VARemp,VARnorm,VARnorm2]"
   ]
  },
  {
   "cell_type": "code",
   "execution_count": 3,
   "id": "68eaad40",
   "metadata": {},
   "outputs": [],
   "source": [
    "x = np.random.normal(loc=1., scale=10.,size=(250,))"
   ]
  },
  {
   "cell_type": "code",
   "execution_count": 4,
   "id": "3727bbcd",
   "metadata": {},
   "outputs": [
    {
     "name": "stdout",
     "output_type": "stream",
     "text": [
      "23.84269829289248\n",
      "22.574310991305893\n",
      "22.77234053478468\n"
     ]
    }
   ],
   "source": [
    "alpha=.01\n",
    "for est in estimators:\n",
    "    print(est(alpha,x))"
   ]
  },
  {
   "cell_type": "markdown",
   "id": "79d1fbaa",
   "metadata": {},
   "source": [
    "#### Exercise 2:\n",
    "Repeat above exercise 1000 times and find the average estimation."
   ]
  },
  {
   "cell_type": "code",
   "execution_count": 5,
   "id": "aaf0ab69",
   "metadata": {},
   "outputs": [],
   "source": [
    "from IPython.display import clear_output"
   ]
  },
  {
   "cell_type": "code",
   "execution_count": 6,
   "id": "f7a8e6f1",
   "metadata": {},
   "outputs": [
    {
     "name": "stdout",
     "output_type": "stream",
     "text": [
      "done\n",
      "22.1853424777149 22.151041847422352 22.34803621994884\n"
     ]
    }
   ],
   "source": [
    "E_emp=0\n",
    "E_norm=0\n",
    "E_norm2=0\n",
    "\n",
    "for j in range(10**3):\n",
    "    x = np.random.normal(loc=1., scale=10.,size=(250,))\n",
    "    E_emp+=VARemp(.01,x)\n",
    "    E_norm+=VARnorm(.01,x)\n",
    "    E_norm2+=VARnorm2(.01,x)\n",
    "    \n",
    "    print(j)\n",
    "    clear_output(wait=True)\n",
    "    \n",
    "print('done')\n",
    "    \n",
    "E_emp = E_emp/(10**3)\n",
    "E_norm = E_norm/(10**3)\n",
    "E_norm2 = E_norm2/(10**3)\n",
    "\n",
    "print(E_emp,E_norm,E_norm2)"
   ]
  },
  {
   "cell_type": "markdown",
   "id": "87d8c349",
   "metadata": {},
   "source": [
    "#### Exercise 3:\n",
    "Let us assume we are given an i.i.d. dataset of length $n=500$ of standard normal observations. Do the following:\n",
    " - for each $t=1,\\ldots,250$ use the empirical and normal estimators at level 1% and dataset $(X_t,\\ldots,X_{t+249})$ to project the risk for the next day ($X_{t+250}$).\n",
    " - Present the plot of daily P&L moves together with estimated risks.\n",
    " - For each estimator count the number of breaches."
   ]
  },
  {
   "cell_type": "code",
   "execution_count": 7,
   "id": "5c3d298f",
   "metadata": {},
   "outputs": [],
   "source": [
    "import matplotlib.pyplot as plt"
   ]
  },
  {
   "cell_type": "code",
   "execution_count": 8,
   "id": "0b959c47",
   "metadata": {},
   "outputs": [],
   "source": [
    "X = np.random.normal(loc=0., scale=1.,size=(500,))\n",
    "\n",
    "empRisks = [VARemp(.01,X[t:t+250]) for t in range(250)]\n",
    "normRisks = [VARnorm(.01,X[t:t+250]) for t in range(250)]"
   ]
  },
  {
   "cell_type": "code",
   "execution_count": 9,
   "id": "cefd45d7",
   "metadata": {},
   "outputs": [
    {
     "data": {
      "image/png": "[encoded data removed]",
      "text/plain": [
       "<Figure size 432x288 with 1 Axes>"
      ]
     },
     "metadata": {
      "needs_background": "light"
     },
     "output_type": "display_data"
    }
   ],
   "source": [
    "Xtest = X[250:500]\n",
    "\n",
    "empPlot = [-v for v in empRisks]\n",
    "normPlot = [-v for v in normRisks]\n",
    "\n",
    "plt.plot(Xtest,c='blue')\n",
    "plt.plot(empPlot,c='red')\n",
    "plt.plot(normPlot,c='orange')\n",
    "\n",
    "plt.show()"
   ]
  },
  {
   "cell_type": "code",
   "execution_count": 10,
   "id": "da32bd9a",
   "metadata": {},
   "outputs": [
    {
     "name": "stdout",
     "output_type": "stream",
     "text": [
      "4\n",
      "2\n"
     ]
    }
   ],
   "source": [
    "Yemp = Xtest + empRisks\n",
    "Ynorm = Xtest + normRisks\n",
    "\n",
    "print(np.count_nonzero(Yemp<0))\n",
    "print(np.count_nonzero(Ynorm<0))"
   ]
  },
  {
   "cell_type": "markdown",
   "id": "040bbc29",
   "metadata": {},
   "source": [
    "#### Exercise 4:\n",
    "Reapeat the previous exercise 1000 times and find the average number of breaches"
   ]
  },
  {
   "cell_type": "code",
   "execution_count": 11,
   "id": "db1ca6a1",
   "metadata": {},
   "outputs": [
    {
     "name": "stdout",
     "output_type": "stream",
     "text": [
      "done\n"
     ]
    }
   ],
   "source": [
    "empBreach = 0\n",
    "normBreach = 0\n",
    "\n",
    "for j in range(10**3):\n",
    "    X = np.random.normal(loc=0., scale=1.,size=(500,))\n",
    "\n",
    "    empRisks = [VARemp(.01,X[t:t+250]) for t in range(250)]\n",
    "    normRisks = [VARnorm(.01,X[t:t+250]) for t in range(250)]\n",
    "    \n",
    "    Xtest = X[250:500]\n",
    "    Yemp = Xtest + empRisks\n",
    "    Ynorm = Xtest + normRisks\n",
    "    \n",
    "    empBreach+=np.count_nonzero(Yemp<0)\n",
    "    normBreach+=np.count_nonzero(Ynorm<0)\n",
    "    \n",
    "    print(j)\n",
    "    clear_output(wait=True)\n",
    "    \n",
    "print('done')\n",
    "empBreach = empBreach/(10**3)\n",
    "normBreach = normBreach/(10**3)"
   ]
  },
  {
   "cell_type": "code",
   "execution_count": 12,
   "id": "bc2d502b",
   "metadata": {},
   "outputs": [
    {
     "name": "stdout",
     "output_type": "stream",
     "text": [
      "2.941\n",
      "2.668\n"
     ]
    }
   ],
   "source": [
    "print(empBreach)\n",
    "print(normBreach)"
   ]
  },
  {
   "cell_type": "markdown",
   "id": "200ec913",
   "metadata": {},
   "source": [
    "#### Exercise 5:\n",
    "Repeat exercise 3 using recent market data. Take daily log-returns of a major stock index (e.g. DAX,FTSE) for the analysis."
   ]
  },
  {
   "cell_type": "code",
   "execution_count": 11,
   "id": "016a72d9",
   "metadata": {},
   "outputs": [],
   "source": [
    "import yfinance as yf"
   ]
  },
  {
   "cell_type": "code",
   "execution_count": 12,
   "id": "572cb989",
   "metadata": {},
   "outputs": [
    {
     "name": "stdout",
     "output_type": "stream",
     "text": [
      "[*********************100%***********************]  1 of 1 completed\n"
     ]
    }
   ],
   "source": [
    "start_date = '2020-01-01'\n",
    "end_date = '2022-10-30'\n",
    "ticker = 'DAX'\n",
    "data = yf.download(ticker,start_date,end_date)"
   ]
  },
  {
   "cell_type": "code",
   "execution_count": 13,
   "id": "53c9f34f",
   "metadata": {},
   "outputs": [
    {
     "data": {
      "text/html": [
       "<div>\n",
       "<style scoped>\n",
       "    .dataframe tbody tr th:only-of-type {\n",
       "        vertical-align: middle;\n",
       "    }\n",
       "\n",
       "    .dataframe tbody tr th {\n",
       "        vertical-align: top;\n",
       "    }\n",
       "\n",
       "    .dataframe thead th {\n",
       "        text-align: right;\n",
       "    }\n",
       "</style>\n",
       "<table border=\"1\" class=\"dataframe\">\n",
       "  <thead>\n",
       "    <tr style=\"text-align: right;\">\n",
       "      <th></th>\n",
       "      <th>Open</th>\n",
       "      <th>High</th>\n",
       "      <th>Low</th>\n",
       "      <th>Close</th>\n",
       "      <th>Adj Close</th>\n",
       "      <th>Volume</th>\n",
       "    </tr>\n",
       "    <tr>\n",
       "      <th>Date</th>\n",
       "      <th></th>\n",
       "      <th></th>\n",
       "      <th></th>\n",
       "      <th></th>\n",
       "      <th></th>\n",
       "      <th></th>\n",
       "    </tr>\n",
       "  </thead>\n",
       "  <tbody>\n",
       "    <tr>\n",
       "      <th>2020-01-02</th>\n",
       "      <td>28.538000</td>\n",
       "      <td>28.663000</td>\n",
       "      <td>28.405001</td>\n",
       "      <td>28.500000</td>\n",
       "      <td>26.444674</td>\n",
       "      <td>1500</td>\n",
       "    </tr>\n",
       "    <tr>\n",
       "      <th>2020-01-03</th>\n",
       "      <td>27.980000</td>\n",
       "      <td>28.111000</td>\n",
       "      <td>27.969999</td>\n",
       "      <td>27.990000</td>\n",
       "      <td>25.971453</td>\n",
       "      <td>2700</td>\n",
       "    </tr>\n",
       "    <tr>\n",
       "      <th>2020-01-06</th>\n",
       "      <td>27.799999</td>\n",
       "      <td>28.004999</td>\n",
       "      <td>27.799999</td>\n",
       "      <td>28.004999</td>\n",
       "      <td>25.985371</td>\n",
       "      <td>600</td>\n",
       "    </tr>\n",
       "    <tr>\n",
       "      <th>2020-01-07</th>\n",
       "      <td>28.040001</td>\n",
       "      <td>28.066000</td>\n",
       "      <td>27.955000</td>\n",
       "      <td>27.955000</td>\n",
       "      <td>25.938978</td>\n",
       "      <td>600</td>\n",
       "    </tr>\n",
       "    <tr>\n",
       "      <th>2020-01-08</th>\n",
       "      <td>28.155001</td>\n",
       "      <td>28.260000</td>\n",
       "      <td>28.155001</td>\n",
       "      <td>28.260000</td>\n",
       "      <td>26.221983</td>\n",
       "      <td>1700</td>\n",
       "    </tr>\n",
       "  </tbody>\n",
       "</table>\n",
       "</div>"
      ],
      "text/plain": [
       "                 Open       High        Low      Close  Adj Close  Volume\n",
       "Date                                                                     \n",
       "2020-01-02  28.538000  28.663000  28.405001  28.500000  26.444674    1500\n",
       "2020-01-03  27.980000  28.111000  27.969999  27.990000  25.971453    2700\n",
       "2020-01-06  27.799999  28.004999  27.799999  28.004999  25.985371     600\n",
       "2020-01-07  28.040001  28.066000  27.955000  27.955000  25.938978     600\n",
       "2020-01-08  28.155001  28.260000  28.155001  28.260000  26.221983    1700"
      ]
     },
     "execution_count": 13,
     "metadata": {},
     "output_type": "execute_result"
    }
   ],
   "source": [
    "data.head() "
   ]
  },
  {
   "cell_type": "code",
   "execution_count": 14,
   "id": "a28327b0",
   "metadata": {},
   "outputs": [
    {
     "data": {
      "image/png": "[encoded data removed]",
      "text/plain": [
       "<Figure size 432x288 with 1 Axes>"
      ]
     },
     "metadata": {
      "needs_background": "light"
     },
     "output_type": "display_data"
    }
   ],
   "source": [
    "X = np.array(data['Close'])\n",
    "N = len(X)\n",
    "\n",
    "plt.plot(X)\n",
    "plt.show()"
   ]
  },
  {
   "cell_type": "code",
   "execution_count": 15,
   "id": "e225212f",
   "metadata": {},
   "outputs": [],
   "source": [
    "empRisks = [VARemp(.01,X[t:t+250]) for t in range(N-250)]\n",
    "normRisks = [VARnorm(.01,X[t:t+250]) for t in range(N-250)]"
   ]
  },
  {
   "cell_type": "code",
   "execution_count": 16,
   "id": "e42acab2",
   "metadata": {},
   "outputs": [
    {
     "data": {
      "image/png": "[encoded data removed]",
      "text/plain": [
       "<Figure size 432x288 with 1 Axes>"
      ]
     },
     "metadata": {
      "needs_background": "light"
     },
     "output_type": "display_data"
    }
   ],
   "source": [
    "Xtest = X[250:N]\n",
    "\n",
    "empPlot = [-v for v in empRisks]\n",
    "normPlot = [-v for v in normRisks]\n",
    "\n",
    "plt.plot(Xtest,c='blue')\n",
    "plt.plot(empPlot,c='red')\n",
    "plt.plot(normPlot,c='orange')\n",
    "\n",
    "plt.show()"
   ]
  },
  {
   "cell_type": "code",
   "execution_count": 17,
   "id": "b0b131a6",
   "metadata": {},
   "outputs": [
    {
     "name": "stdout",
     "output_type": "stream",
     "text": [
      "45\n",
      "48\n"
     ]
    }
   ],
   "source": [
    "Yemp = Xtest + empRisks\n",
    "Ynorm = Xtest + normRisks\n",
    "\n",
    "print(np.count_nonzero(Yemp<0))\n",
    "print(np.count_nonzero(Ynorm<0))"
   ]
  },
  {
   "cell_type": "markdown",
   "id": "6131e206",
   "metadata": {},
   "source": [
    "# Historical simulation method\n",
    "\n",
    "Calculating VAR based on historical simulations consists of the following steps:\n",
    " - identify risk factors driving the portfolio\n",
    " - collect market data for those risk factors for a lookback period\n",
    " - generate scenarios based on daily movements of the risk factors\n",
    " - reprice the current portfolio assuming that generated scenarios reflect what can happen between today and tomorrow\n",
    " - identify the loss of the portfolio which corresponds to the worst loss that can occur with $\\alpha$ confidence level\n",
    " - if necessary, 1-day VAR can be scaled to N-day VAR by\n",
    " $$VAR_N = \\sqrt{N}VAR_1.$$"
   ]
  },
  {
   "cell_type": "markdown",
   "id": "27beb33d",
   "metadata": {},
   "source": [
    " - Let's assume we want to calculate HS VAR for one asset from our portfolio based on historical data $(S_t)_1^T$.\n",
    " - The future $P\\&L$ is expressed as\n",
    " $$P\\&L = S_{T+1}-S_T.$$\n",
    " - Since $S_{T+1}$ is a random variable, we need to construct sample of it that we denote $(S_t')_1^T$.\n",
    " - To estimate risk we need to calculate shifted scenarios:\n",
    "     - Multiplicative shifts: $S_t' = S_T\\times (S_t/S_{t-1}),$\n",
    "     - Additive shifts: $S_t' = S_T + (S_t-S_{t-1})$.\n",
    " - Then we recover the $P\\&L$ vector sample: $P\\&L_t = S_t'-S_T$.\n",
    " - We use $P\\&L$ sample to estimate risk for this asset"
   ]
  },
  {
   "cell_type": "markdown",
   "id": "cf11f2bc",
   "metadata": {},
   "source": [
    "Sometimes to calculate $P\\&L$'s we may use the **sensitivity based approach**:\n",
    "$$ P\\&L = \\delta(\\Delta S) + \\frac{\\gamma}{2}(\\Delta S)^2,$$\n",
    "where $\\Delta S = S_i'-S_T$.\n",
    "This is based on Taylor's expansion of a pricing function $PV$:\n",
    "$$ \\delta = \\frac{\\partial PV(S)}{\\partial S},$$\n",
    "$$ \\gamma = \\frac{\\partial^2PV(S)}{\\partial S^2}.$$\n",
    "\n",
    "This is used if the **full-revaluation**:\n",
    "$$ P\\&L = PV(S')-PV(S_T)$$\n",
    "is too complicated."
   ]
  },
  {
   "cell_type": "markdown",
   "id": "79a2646e",
   "metadata": {},
   "source": [
    "### Exercise 1:\n",
    "The financial institution owns a portfolio consisting of options on a single asset. Calculate 10-days VAR at level 5% knowing that the portfolio $\\delta = -30$ and $\\gamma=-5$. Use the provided daily historical S&P500 proces with lookback period set to 100 days to estimate the risk."
   ]
  },
  {
   "cell_type": "code",
   "execution_count": 19,
   "id": "9aa1bce3",
   "metadata": {},
   "outputs": [],
   "source": [
    "import pandas as pd"
   ]
  },
  {
   "cell_type": "code",
   "execution_count": 44,
   "id": "a621cfdc",
   "metadata": {},
   "outputs": [
    {
     "data": {
      "text/html": [
       "<div>\n",
       "<style scoped>\n",
       "    .dataframe tbody tr th:only-of-type {\n",
       "        vertical-align: middle;\n",
       "    }\n",
       "\n",
       "    .dataframe tbody tr th {\n",
       "        vertical-align: top;\n",
       "    }\n",
       "\n",
       "    .dataframe thead th {\n",
       "        text-align: right;\n",
       "    }\n",
       "</style>\n",
       "<table border=\"1\" class=\"dataframe\">\n",
       "  <thead>\n",
       "    <tr style=\"text-align: right;\">\n",
       "      <th></th>\n",
       "      <th>Data</th>\n",
       "      <th>EURUSD</th>\n",
       "      <th>10-Year German Bond Yield</th>\n",
       "      <th>S&amp;P500</th>\n",
       "      <th>Gold</th>\n",
       "      <th>XYZ</th>\n",
       "      <th>sigma_XYZ</th>\n",
       "    </tr>\n",
       "  </thead>\n",
       "  <tbody>\n",
       "    <tr>\n",
       "      <th>3598</th>\n",
       "      <td>27/07/2020</td>\n",
       "      <td>1.18237</td>\n",
       "      <td>-0.493</td>\n",
       "      <td>3239.41</td>\n",
       "      <td>1931.0</td>\n",
       "      <td>102.8229</td>\n",
       "      <td>0.008351</td>\n",
       "    </tr>\n",
       "    <tr>\n",
       "      <th>3599</th>\n",
       "      <td>28/07/2020</td>\n",
       "      <td>1.18143</td>\n",
       "      <td>-0.508</td>\n",
       "      <td>3218.44</td>\n",
       "      <td>1944.6</td>\n",
       "      <td>102.8293</td>\n",
       "      <td>0.009011</td>\n",
       "    </tr>\n",
       "    <tr>\n",
       "      <th>3600</th>\n",
       "      <td>29/07/2020</td>\n",
       "      <td>1.17451</td>\n",
       "      <td>-0.501</td>\n",
       "      <td>3258.44</td>\n",
       "      <td>1953.4</td>\n",
       "      <td>102.8205</td>\n",
       "      <td>0.009670</td>\n",
       "    </tr>\n",
       "    <tr>\n",
       "      <th>3601</th>\n",
       "      <td>30/07/2020</td>\n",
       "      <td>1.17486</td>\n",
       "      <td>-0.543</td>\n",
       "      <td>3246.22</td>\n",
       "      <td>1942.3</td>\n",
       "      <td>102.8296</td>\n",
       "      <td>0.007752</td>\n",
       "    </tr>\n",
       "    <tr>\n",
       "      <th>3602</th>\n",
       "      <td>31/07/2020</td>\n",
       "      <td>1.17102</td>\n",
       "      <td>-0.525</td>\n",
       "      <td>3271.12</td>\n",
       "      <td>1962.8</td>\n",
       "      <td>102.8356</td>\n",
       "      <td>0.005557</td>\n",
       "    </tr>\n",
       "  </tbody>\n",
       "</table>\n",
       "</div>"
      ],
      "text/plain": [
       "            Data   EURUSD  10-Year German Bond Yield   S&P500    Gold  \\\n",
       "3598  27/07/2020  1.18237                     -0.493  3239.41  1931.0   \n",
       "3599  28/07/2020  1.18143                     -0.508  3218.44  1944.6   \n",
       "3600  29/07/2020  1.17451                     -0.501  3258.44  1953.4   \n",
       "3601  30/07/2020  1.17486                     -0.543  3246.22  1942.3   \n",
       "3602  31/07/2020  1.17102                     -0.525  3271.12  1962.8   \n",
       "\n",
       "           XYZ  sigma_XYZ  \n",
       "3598  102.8229   0.008351  \n",
       "3599  102.8293   0.009011  \n",
       "3600  102.8205   0.009670  \n",
       "3601  102.8296   0.007752  \n",
       "3602  102.8356   0.005557  "
      ]
     },
     "execution_count": 44,
     "metadata": {},
     "output_type": "execute_result"
    }
   ],
   "source": [
    "df = pd.read_csv('HSBC_lecture6_DATA.csv')\n",
    "df.tail()"
   ]
  },
  {
   "cell_type": "code",
   "execution_count": 42,
   "id": "562973cf",
   "metadata": {},
   "outputs": [],
   "source": [
    "SP = np.array(list(df.tail(101)['S&P500']))\n",
    "shocks = SP[1:]-SP[:-1]\n",
    "\n",
    "delta = -30\n",
    "gamma = -5\n",
    "\n",
    "PLs = delta*shocks + .5*gamma*shocks**2"
   ]
  },
  {
   "cell_type": "code",
   "execution_count": 45,
   "id": "70af9d60",
   "metadata": {},
   "outputs": [
    {
     "name": "stdout",
     "output_type": "stream",
     "text": [
      "261698.72760506906\n"
     ]
    }
   ],
   "source": [
    "alpha = .05\n",
    "var1 = VARemp(alpha,PLs)\n",
    "var10 = var1*np.sqrt(10)\n",
    "\n",
    "print(var10)"
   ]
  },
  {
   "cell_type": "markdown",
   "id": "a2c39b35",
   "metadata": {},
   "source": [
    "### Exercise 5:\n",
    "Consider an investement in forward contract for EUR/USD maturing 6 months from now with contracted forward price 1.2 dollars. Calculate 1-day VaR at level 5% for COB 31/07/2020 taking into account that the present value of forward contract is given by\n",
    "$$ PV = F\\exp(-(r-q)T),$$\n",
    "where $r$ is a spot exchange rate, q is income flow of an asset, $F$ represents forward price and $T$ denotes time to maturity in years. Use recent market data assuming the lookback period of 250 days and $q=0.01$."
   ]
  },
  {
   "cell_type": "code",
   "execution_count": 56,
   "id": "724e818f",
   "metadata": {},
   "outputs": [],
   "source": [
    "prices = np.array(df.tail(251)['EURUSD'])\n",
    "\n",
    "T=.5\n",
    "forward_price=1.2\n",
    "q=.01\n",
    "\n",
    "curr_price = prices[-1]\n",
    "S = curr_price*prices[1:]/prices[-1:]\n",
    "\n",
    "def PV(r):\n",
    "    return forward_price*np.exp(-(r-q)*T)\n",
    "\n",
    "PLs = np.array(list(map(PV,S)))-PV(curr_price)"
   ]
  },
  {
   "cell_type": "code",
   "execution_count": 57,
   "id": "a5860fc4",
   "metadata": {},
   "outputs": [
    {
     "data": {
      "text/plain": [
       "0.004630983764626007"
      ]
     },
     "execution_count": 57,
     "metadata": {},
     "output_type": "execute_result"
    }
   ],
   "source": [
    "VARemp(.05,PLs)"
   ]
  },
  {
   "cell_type": "markdown",
   "id": "59c1231d",
   "metadata": {},
   "source": [
    "### Exercise 6:\n",
    "Consider an european option with current price given by\n",
    "$$ C = PV(S,\\sigma) = SN(d_1)-K\\exp(-rT)N(d_2),$$\n",
    "with\n",
    "$$ d_1 = \\frac{\\ln\\frac{S}{K}+\\left(r+\\frac{1}{2}\\sigma^2\\right)T}{\\sigma\\sqrt{T}},\\ \\ d_2=d_1-\\sigma\\sqrt{T},$$\n",
    "where $S$ is an underlying price, $K$ is the exercise price at which the option holder can, but is not obliged to, buy the asset, $T$ is time maturity in years, $\\sigma$ is a stock volatility, $r$ is a domestic risk free rate, and  $N(d)$ is a cumulative normal distribution function. Based on recent historical data calculate 1-day VaR at risk level 1% for COB 31/07/2020 with 500 days lookback period for one asset portfolio consisting of an European option with underlying XYZ and its volatility sigma_XYZ with exercise price 102.5 dollars maturing 1 year from now."
   ]
  },
  {
   "cell_type": "code",
   "execution_count": 66,
   "id": "a99987e3",
   "metadata": {},
   "outputs": [],
   "source": [
    "from scipy.stats import norm\n",
    "\n",
    "T = 1\n",
    "r = 0\n",
    "K = 102.5\n",
    "\n",
    "alpha = .01"
   ]
  },
  {
   "cell_type": "code",
   "execution_count": 65,
   "id": "600a9924",
   "metadata": {},
   "outputs": [],
   "source": [
    "XYZ = np.array(df.tail(501)['XYZ'])\n",
    "sigmaXYZ = np.array(df.tail(501)['sigma_XYZ'])\n",
    "\n",
    "curr_XYZ = XYZ[-1]\n",
    "curr_sigma = sigmaXYZ[-1]\n",
    "\n",
    "S_XYZ = curr_XYZ*XYZ[1:]/XYZ[:-1]\n",
    "S_sigma = curr_sigma*sigmaXYZ[1:]/sigmaXYZ[:-1]\n",
    "\n",
    "def d1(S,sigma):\n",
    "    a = np.log(S/K) + (r+.5*sigma**2)*T\n",
    "    b = sigma*np.sqrt(T)\n",
    "    return a/b\n",
    "\n",
    "def d2(S,sigma):\n",
    "    return d1(S,sigma)-sigma*np.sqrt(T)\n",
    "\n",
    "def PV(S,sigma):\n",
    "    return S*norm.cdf(d1(S,sigma))-K*np.exp(-r*T)*norm.cdf(d2(S,sigma))\n",
    "\n",
    "nn = len(S_XYZ)\n",
    "PLs = np.array([PV(S_XYZ[j],S_sigma[j]) for j in range(nn)])-PV(curr_XYZ,curr_sigma)"
   ]
  },
  {
   "cell_type": "code",
   "execution_count": 67,
   "id": "d628d9f8",
   "metadata": {},
   "outputs": [
    {
     "data": {
      "text/plain": [
       "0.08686985871518971"
      ]
     },
     "execution_count": 67,
     "metadata": {},
     "output_type": "execute_result"
    }
   ],
   "source": [
    "VARemp(alpha,PLs)"
   ]
  },
  {
   "cell_type": "code",
   "execution_count": null,
   "id": "89baedbd",
   "metadata": {},
   "outputs": [],
   "source": []
  }
 ],
 "metadata": {
  "kernelspec": {
   "display_name": "Python 3",
   "language": "python",
   "name": "python3"
  },
  "language_info": {
   "codemirror_mode": {
    "name": "ipython",
    "version": 3
   },
   "file_extension": ".py",
   "mimetype": "text/x-python",
   "name": "python",
   "nbconvert_exporter": "python",
   "pygments_lexer": "ipython3",
   "version": "3.8.8"
  }
 },
 "nbformat": 4,
 "nbformat_minor": 5
}
